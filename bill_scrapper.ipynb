{
 "cells": [
  {
   "cell_type": "markdown",
   "metadata": {},
   "source": [
    "## **Kenya-Parliament-Bill-Scraper**\n",
    "\n",
    "Kenya-Parliament-Bill-Scraper is an automated data extraction tool designed to retrieve bills from the official website of the Kenyan Parliament. This script navigates through the parliamentary website, specifically the \"House Business\" section, and collects details about bills presented in the National Assembly. It extracts the titles of the bills, their associated PDF download links, and facilitates the downloading of these bills in PDF format. This process aims at collecting bills tabled in parliament for the year 2023 and a few of 2022 by 22/09/2023. The data is to be used in another project. By automating this process, the \"Kenya-Parliament-Bill-Scraper\" simplifies the task of accessing and storing legislative documents for analysis, research, and documentation.\n"
   ]
  },
  {
   "cell_type": "code",
   "execution_count": 48,
   "metadata": {},
   "outputs": [
    {
     "name": "stdout",
     "output_type": "stream",
     "text": [
      "Downloaded: THE SOCIALHEALTH INSURANCE BILL, 2023 (NATIONAL ASSEMBLY BILLS NO. 58)-compressed.pdf.pdf\n",
      "Downloaded: THE PRESERVATION OF PUBLIC SECURITY (AMENDMENT0 BILL, 2023 (NATIONAL ASSEMBLY BILLS NO. 48).pdf.pdf\n",
      "Downloaded: THE PUBLIC PARTICIPATION BILL, 2023 (NATIONAL ASSEMBLY BILLS NO 52)-1.pdf.pdf\n",
      "Downloaded: THE MINING (AMENDMENT), BILL, 2023 (NATIONAL ASSEMBLY BILLS NO 51)-compressed.pdf.pdf\n",
      "Downloaded: THE DIGITAL HEALTH BILL, 2023 (NATIONAL ASSEMBLY NO. 57)-1.pdf.pdf\n",
      "Downloaded: THE PENAL CODE (AMENDMENT) BILL, 2023 (NATIONAL ASSEMBLY BILLS NO. 55).pdf.pdf\n",
      "Downloaded: THE PRISONS (AMENDMENT) BILL, 2023 (NATIONAL ASSEMBLY BILLS NO. 54).pdf.pdf\n",
      "Downloaded: THE INDEPENDENT ELECTORAL AND BOUNDARIES COMMISSION (AMENDMENT) BILL, 2023 (NATIONAL ASSEMBLY BILLS NO. 50).pdf.pdf\n",
      "Downloaded: Tibunals Bill, 2023.pdf.pdf\n",
      "Downloaded: Gold Processing Bill, 2023.pdf.pdf\n",
      "Downloaded: Senate Bill no5 of 2023 on the Cotton Industry Development Bill 2023.pdf.pdf\n",
      "Downloaded: Senate Bill no6 on the Natural resources benefit sharing bill 2022.pdf.pdf\n",
      "Downloaded: Senate Bill no11 of 2022 - The employment amendment bill 2022.pdf.pdf\n",
      "Downloaded: THE UNIVERSITIES ( AMENDMENT) (NO. 2) BILL, 2023.pdf.pdf\n",
      "Downloaded: THE ANTI-CORRUPTION AND ECONOMIC CRIMES (AMENDMENT) BILL, 2023 (2).pdf.pdf\n",
      "Downloaded: THE NATIONAL LAND COMMISSION (AMENDMENT) BILL ,2023.pdf.pdf\n",
      "Downloaded: THE LAND CONTROL BILL, 2023 (2)-1.pdf.pdf\n",
      "Downloaded: The Houses of Parliament ( Bicameral Relations) Bill , 2023.pdf.pdf\n",
      "Downloaded: THE CLIMATE CHANGE (AMENDMENT) BILL, 2023.pdf.pdf\n",
      "Downloaded: THE METEOROLOGY BILL,2023.pdf.pdf\n",
      "Downloaded: THE KENYA ROADS (AMENDMENT) BILL ,2023.pdf.pdf\n",
      "Downloaded: THE MARRIAGE (AMENDMENT) BILL,2023.pdf.pdf\n",
      "Downloaded: THE NATIONAL TRANSPORT AND SAFETY AUTHORITY (AMENDMENT) BILL, 2023.pdf.pdf\n",
      "Downloaded: THE UNIVERSITY (AMENDMENT) BILL, 2023.pdf.pdf\n",
      "Downloaded: The Anti-Money Laundering And Combating Of Terrorism Financing laws (Amendment) Bill, 2023(1).pdf.pdf\n",
      "Downloaded: THE CROPS (AMENDMENT) BILL,2023.pdf.pdf\n",
      "Downloaded: THE WATER (AMENDMENT) BILL , 2023.pdf.pdf\n",
      "Downloaded: THE FISHERIES MANAGEMENT AND DEVELOPMENT BILL, 2023-1.pdf.pdf\n",
      "Downloaded: National Government Co-ordination (Amendment) Bill, 2023.pdf.pdf\n",
      "Downloaded: The Economic and Social Rights Bill Senate Bill No. 7 of 2022.pdf.pdf\n",
      "Downloaded: The Parliamentary Powers and Privileges (Amendment) Bill Senate Bill No. 5 of 2022.pdf.pdf\n",
      "Downloaded: The Vocational Training BIll, Senate Bill No. 3 of 2022.pdf.pdf\n",
      "Downloaded: The Equalisation Fund Appropriation Bill, Senate Bill No. 3 of 2023.pdf.pdf\n",
      "Downloaded: The County Allocation of Revenue Bill, Senate Bill No. 16 of 2023.pdf.pdf\n",
      "Downloaded: The Persons with Disabilities Bill, 2023 (4).pdf.pdf\n",
      "Downloaded: The Anti-Corruption and Economic Crimes (Amendment) Bill ,2023.pdf.pdf\n",
      "Downloaded: The Appropriation Bill, 2023.pdf.pdf\n",
      "Downloaded: The National Disaster Risk Management Bill, 2023.pdf.pdf\n",
      "Downloaded: The Kenya National Library Service Bill, 2023...pdf.pdf\n",
      "Downloaded: The Insurance (Amendment) Bill, 2023.pdf.pdf\n",
      "Downloaded: The Cancer Prevention and Control (Amendment) Bill , 2023.pdf.pdf\n",
      "Downloaded: THE HIGHER EDUCATION LOANS BOARD(AMENDMENT) BILL ,2022.pdf.pdf\n",
      "Downloaded: The Food And feed Safety Control Co-ordination Bill, 2023.pdf.pdf\n",
      "Downloaded: The County Governments Additional Allocations Bill, 2023.pdf.pdf\n",
      "Downloaded: The Public Finance Management (amendment) Bill, 2023.pdf.pdf\n",
      "Downloaded: The Privatisation Bill, 2023.pdf.pdf\n",
      "Downloaded: The Parliamentary Pensions (Amendment) Bill, 2023.pdf.pdf\n",
      "Downloaded: THE FINANCE BILL , 2023_compressed.pdf.pdf\n",
      "Downloaded: The National Government Constituencies Development Fund (Amendment) Bill, 2023_compressed.pdf.pdf\n",
      "Downloaded: THE PUBLIC SERVICE COMMISSION (AMENDMENT) BILL, 2023.pdf.pdf\n"
     ]
    }
   ],
   "source": [
    "import os\n",
    "import requests\n",
    "from bs4 import BeautifulSoup\n",
    "    \n",
    "def scrape_bills():\n",
    "    pages_to_scrape = 2\n",
    "    download_folder = '/home/brian/Work/ParBills'\n",
    "\n",
    "    if not os.path.exists(download_folder):\n",
    "        os.makedirs(download_folder)\n",
    "\n",
    "    # start scrapping\n",
    "    for page_number in range(0, pages_to_scrape):\n",
    "        base_url= 'http://www.parliament.go.ke/the-national-assembly/house-business/bills'\n",
    "        url = f\"{base_url}?page={page_number}\"\n",
    "        response = requests.get(url)\n",
    "\n",
    "        if response.status_code != 200:\n",
    "            break\n",
    "        else:\n",
    "            soup = BeautifulSoup(response.text, 'html.parser')\n",
    "            bill_links = soup.find_all('span', class_='file file--mime-application-pdf file--application-pdf')\n",
    "\n",
    "            for link in bill_links:\n",
    "                pdf_link = link.find('a')['href']\n",
    "                title = link.find('a')['title']\n",
    "\n",
    "                # get pdf content and download it\n",
    "                file_path = os.path.join(download_folder, f\"{title}.pdf\")\n",
    "                pdf_response = requests.get(pdf_link)\n",
    "\n",
    "                if pdf_response.status_code == 200:\n",
    "                    with open(file_path, 'wb') as pdf_file:\n",
    "                        pdf_file.write(pdf_response.content)\n",
    "                        print(f\"Downloaded: {title}.pdf\")\n",
    "                else:\n",
    "                    print(\"Download failed!\")\n",
    "\n",
    "scrape_bills()"
   ]
  }
 ],
 "metadata": {
  "kernelspec": {
   "display_name": "web_env",
   "language": "python",
   "name": "python3"
  },
  "language_info": {
   "codemirror_mode": {
    "name": "ipython",
    "version": 3
   },
   "file_extension": ".py",
   "mimetype": "text/x-python",
   "name": "python",
   "nbconvert_exporter": "python",
   "pygments_lexer": "ipython3",
   "version": "3.10.9"
  },
  "orig_nbformat": 4
 },
 "nbformat": 4,
 "nbformat_minor": 2
}
